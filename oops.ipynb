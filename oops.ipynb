{
 "cells": [
  {
   "cell_type": "markdown",
   "id": "3aee69b7",
   "metadata": {},
   "source": [
    "## Inheritance "
   ]
  },
  {
   "cell_type": "code",
   "execution_count": 3,
   "id": "7b85f3d7",
   "metadata": {},
   "outputs": [],
   "source": [
    "class Car:\n",
    "    def __init__(self, windows, doors, enginetype):\n",
    "        self.windows= windows\n",
    "        self.doors=doors\n",
    "        self.enginetype=enginetype\n",
    "    \n",
    "    def drive(self):\n",
    "        print(f\"the person will drive the {self.enginetype} car\")\n"
   ]
  },
  {
   "cell_type": "code",
   "execution_count": 4,
   "id": "bfc458c1",
   "metadata": {},
   "outputs": [
    {
     "name": "stdout",
     "output_type": "stream",
     "text": [
      "the person will drive the petrol car\n"
     ]
    }
   ],
   "source": [
    "car1= Car(3,5,\"petrol\")\n",
    "car1.drive()"
   ]
  },
  {
   "cell_type": "code",
   "execution_count": 5,
   "id": "52d29ff5",
   "metadata": {},
   "outputs": [],
   "source": [
    "class Tesla(Car):\n",
    "    def __init__(self, windows, door, enginetype,is_selfdriving):\n",
    "        super().__init__(windows, door, enginetype)\n",
    "        self.is_selfdriving=is_selfdriving\n",
    "    \n",
    "    def selfdriving(self):\n",
    "        print(f\"Tesla supports self driving:{self.is_selfdriving}\")"
   ]
  },
  {
   "cell_type": "code",
   "execution_count": 6,
   "id": "4e1eea55",
   "metadata": {},
   "outputs": [
    {
     "name": "stdout",
     "output_type": "stream",
     "text": [
      "Tesla supports self driving:True\n"
     ]
    }
   ],
   "source": [
    "tesla1= Tesla(4,5,\"electric\",True)\n",
    "tesla1.selfdriving()"
   ]
  },
  {
   "cell_type": "code",
   "execution_count": 7,
   "id": "98b9a30a",
   "metadata": {},
   "outputs": [
    {
     "name": "stdout",
     "output_type": "stream",
     "text": [
      "the person will drive the electric car\n"
     ]
    }
   ],
   "source": [
    "tesla1.drive()"
   ]
  },
  {
   "cell_type": "code",
   "execution_count": null,
   "id": "06d80249",
   "metadata": {},
   "outputs": [],
   "source": []
  }
 ],
 "metadata": {
  "kernelspec": {
   "display_name": "MLOps",
   "language": "python",
   "name": "mlops"
  },
  "language_info": {
   "codemirror_mode": {
    "name": "ipython",
    "version": 3
   },
   "file_extension": ".py",
   "mimetype": "text/x-python",
   "name": "python",
   "nbconvert_exporter": "python",
   "pygments_lexer": "ipython3",
   "version": "3.12.10"
  }
 },
 "nbformat": 4,
 "nbformat_minor": 5
}
